{
 "cells": [
  {
   "cell_type": "code",
   "execution_count": 2,
   "metadata": {},
   "outputs": [],
   "source": [
    "import pandas as pd\n",
    "import numpy as np\n",
    "from sklearn.preprocessing import StandardScaler, OneHotEncoder\n",
    "from sklearn.compose import ColumnTransformer\n",
    "from sklearn.pipeline import Pipeline"
   ]
  },
  {
   "cell_type": "code",
   "execution_count": 3,
   "metadata": {},
   "outputs": [
    {
     "name": "stdout",
     "output_type": "stream",
     "text": [
      "  Symbol                 Name                  Sector   Price  Price/Earnings  \\\n",
      "0    MMM           3M Company             Industrials  222.89           24.31   \n",
      "1    AOS      A.O. Smith Corp             Industrials   60.24           27.76   \n",
      "2    ABT  Abbott Laboratories             Health Care   56.27           22.51   \n",
      "3   ABBV          AbbVie Inc.             Health Care  108.48           19.41   \n",
      "4    ACN        Accenture plc  Information Technology  150.51           25.47   \n",
      "\n",
      "   Dividend_Yield  Earnings/Share  52_Week_Low  52_Week_High    Market_Cap  \\\n",
      "0        2.332862            7.92       259.77       175.490  1.387211e+11   \n",
      "1        1.147959            1.70        68.39        48.925  1.078342e+10   \n",
      "2        1.908982            0.26        64.60        42.280  1.021210e+11   \n",
      "3        2.499560            3.29       125.86        60.050  1.813863e+11   \n",
      "4        1.714470            5.44       162.60       114.820  9.876586e+10   \n",
      "\n",
      "         EBITDA  Price/Sales  Price/Book  \n",
      "0  9.048000e+09     4.390271       11.34  \n",
      "1  6.010000e+08     3.575483        6.35  \n",
      "2  5.744000e+09     3.740480        3.19  \n",
      "3  1.031000e+10     6.291571       26.14  \n",
      "4  5.643228e+09     2.604117       10.62  \n",
      "<class 'pandas.core.frame.DataFrame'>\n",
      "RangeIndex: 495 entries, 0 to 494\n",
      "Data columns (total 13 columns):\n",
      " #   Column          Non-Null Count  Dtype  \n",
      "---  ------          --------------  -----  \n",
      " 0   Symbol          495 non-null    object \n",
      " 1   Name            495 non-null    object \n",
      " 2   Sector          495 non-null    object \n",
      " 3   Price           495 non-null    float64\n",
      " 4   Price/Earnings  495 non-null    float64\n",
      " 5   Dividend_Yield  495 non-null    float64\n",
      " 6   Earnings/Share  495 non-null    float64\n",
      " 7   52_Week_Low     495 non-null    float64\n",
      " 8   52_Week_High    495 non-null    float64\n",
      " 9   Market_Cap      495 non-null    float64\n",
      " 10  EBITDA          495 non-null    float64\n",
      " 11  Price/Sales     495 non-null    float64\n",
      " 12  Price/Book      495 non-null    float64\n",
      "dtypes: float64(10), object(3)\n",
      "memory usage: 50.4+ KB\n",
      "None\n"
     ]
    }
   ],
   "source": [
    "df = pd.read_csv('financials_cleaned.csv')\n",
    "\n",
    "print(df.head())\n",
    "print(df.info())"
   ]
  },
  {
   "cell_type": "code",
   "execution_count": 5,
   "metadata": {},
   "outputs": [],
   "source": [
    "# Define categorical and numerical features\n",
    "categorical_features = ['Sector']\n",
    "numerical_features = ['Price', 'Price/Earnings', 'Dividend_Yield', 'Earnings/Share', \n",
    "                      '52_Week_Low', '52_Week_High', 'Market_Cap', 'EBITDA', \n",
    "                      'Price/Sales', 'Price/Book']"
   ]
  },
  {
   "cell_type": "code",
   "execution_count": 6,
   "metadata": {},
   "outputs": [],
   "source": [
    "# Scaling numerical features using StandardScaler\n",
    "numeric_transformer = Pipeline(steps=[\n",
    "    ('scaler', StandardScaler())\n",
    "])"
   ]
  },
  {
   "cell_type": "code",
   "execution_count": 7,
   "metadata": {},
   "outputs": [],
   "source": [
    "# Encoding categorical features with OneHotEncoder (no dropped columns)\n",
    "categorical_transformer = Pipeline(steps=[\n",
    "    ('onehot', OneHotEncoder(handle_unknown='ignore', drop=None))\n",
    "])"
   ]
  },
  {
   "cell_type": "code",
   "execution_count": 8,
   "metadata": {},
   "outputs": [],
   "source": [
    "# Combine numerical and categorical transformations\n",
    "preprocessor = ColumnTransformer(\n",
    "    transformers=[\n",
    "        ('num', numeric_transformer, numerical_features),\n",
    "        ('cat', categorical_transformer, categorical_features)\n",
    "    ]\n",
    ")"
   ]
  },
  {
   "cell_type": "code",
   "execution_count": 9,
   "metadata": {},
   "outputs": [],
   "source": [
    "# Apply the transformations\n",
    "data_prepared = preprocessor.fit_transform(df)\n",
    "\n",
    "# Extract feature names (numerical + one-hot encoded)\n",
    "feature_names = (numerical_features + \n",
    "                 list(preprocessor.named_transformers_['cat'].named_steps['onehot']\n",
    "                      .get_feature_names_out(categorical_features)))\n",
    "\n",
    "# Create a DataFrame for the preprocessed data\n",
    "data_preprocessed_updated = pd.DataFrame(data_prepared, columns=feature_names)"
   ]
  },
  {
   "cell_type": "code",
   "execution_count": 10,
   "metadata": {},
   "outputs": [
    {
     "name": "stdout",
     "output_type": "stream",
     "text": [
      "Preprocessed dataset saved as 'data_preprocessed_with_all_sectors.csv'\n"
     ]
    }
   ],
   "source": [
    "# Save the preprocessed dataset with all categories\n",
    "data_preprocessed_updated.to_csv('data_preprocessed_with_all_sectors.csv', index=False)\n",
    "\n",
    "# Confirm successful save\n",
    "print(\"Preprocessed dataset saved as 'data_preprocessed_with_all_sectors.csv'\")"
   ]
  },
  {
   "cell_type": "code",
   "execution_count": 11,
   "metadata": {},
   "outputs": [
    {
     "name": "stdout",
     "output_type": "stream",
     "text": [
      "Original Sectors: ['Industrials' 'Health Care' 'Information Technology'\n",
      " 'Consumer Discretionary' 'Utilities' 'Financials' 'Materials'\n",
      " 'Real Estate' 'Consumer Staples' 'Energy' 'Telecommunication Services']\n",
      "Encoded Columns: ['Sector_Consumer Discretionary', 'Sector_Consumer Staples', 'Sector_Energy', 'Sector_Financials', 'Sector_Health Care', 'Sector_Industrials', 'Sector_Information Technology', 'Sector_Materials', 'Sector_Real Estate', 'Sector_Telecommunication Services', 'Sector_Utilities']\n",
      "Missing Categories: set()\n"
     ]
    }
   ],
   "source": [
    "# Validate that all categories from the original data are encoded\n",
    "original_sectors = df['Sector'].unique()\n",
    "encoded_columns = [col for col in data_preprocessed_updated.columns if col.startswith('Sector_')]\n",
    "\n",
    "# Compare original sectors with one-hot encoded columns\n",
    "print(\"Original Sectors:\", original_sectors)\n",
    "print(\"Encoded Columns:\", encoded_columns)\n",
    "\n",
    "# Check for missing categories\n",
    "missing_categories = set(original_sectors) - set([col.split('_')[1] for col in encoded_columns])\n",
    "print(\"Missing Categories:\", missing_categories)"
   ]
  }
 ],
 "metadata": {
  "kernelspec": {
   "display_name": "base",
   "language": "python",
   "name": "python3"
  },
  "language_info": {
   "codemirror_mode": {
    "name": "ipython",
    "version": 3
   },
   "file_extension": ".py",
   "mimetype": "text/x-python",
   "name": "python",
   "nbconvert_exporter": "python",
   "pygments_lexer": "ipython3",
   "version": "3.11.5"
  }
 },
 "nbformat": 4,
 "nbformat_minor": 2
}
