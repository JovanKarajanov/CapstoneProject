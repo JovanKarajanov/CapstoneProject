{
 "cells": [
  {
   "cell_type": "code",
   "execution_count": 22,
   "metadata": {},
   "outputs": [],
   "source": [
    "import pandas as pd\n",
    "import numpy as np\n",
    "from sklearn.preprocessing import StandardScaler, OneHotEncoder\n",
    "from sklearn.compose import ColumnTransformer\n",
    "from sklearn.pipeline import Pipeline"
   ]
  },
  {
   "cell_type": "code",
   "execution_count": 23,
   "metadata": {},
   "outputs": [],
   "source": [
    "df = pd.read_csv('financials_cleaned.csv')"
   ]
  },
  {
   "cell_type": "code",
   "execution_count": 24,
   "metadata": {},
   "outputs": [
    {
     "name": "stdout",
     "output_type": "stream",
     "text": [
      "<class 'pandas.core.frame.DataFrame'>\n",
      "RangeIndex: 495 entries, 0 to 494\n",
      "Data columns (total 13 columns):\n",
      " #   Column          Non-Null Count  Dtype  \n",
      "---  ------          --------------  -----  \n",
      " 0   Symbol          495 non-null    object \n",
      " 1   Name            495 non-null    object \n",
      " 2   Sector          495 non-null    object \n",
      " 3   Price           495 non-null    float64\n",
      " 4   Price/Earnings  495 non-null    float64\n",
      " 5   Dividend_Yield  495 non-null    float64\n",
      " 6   Earnings/Share  495 non-null    float64\n",
      " 7   52_Week_Low     495 non-null    float64\n",
      " 8   52_Week_High    495 non-null    float64\n",
      " 9   Market_Cap      495 non-null    float64\n",
      " 10  EBITDA          495 non-null    float64\n",
      " 11  Price/Sales     495 non-null    float64\n",
      " 12  Price/Book      495 non-null    float64\n",
      "dtypes: float64(10), object(3)\n",
      "memory usage: 50.4+ KB\n"
     ]
    },
    {
     "data": {
      "text/plain": [
       "(  Symbol                 Name                  Sector   Price  Price/Earnings  \\\n",
       " 0    MMM           3M Company             Industrials  222.89           24.31   \n",
       " 1    AOS      A.O. Smith Corp             Industrials   60.24           27.76   \n",
       " 2    ABT  Abbott Laboratories             Health Care   56.27           22.51   \n",
       " 3   ABBV          AbbVie Inc.             Health Care  108.48           19.41   \n",
       " 4    ACN        Accenture plc  Information Technology  150.51           25.47   \n",
       " \n",
       "    Dividend_Yield  Earnings/Share  52_Week_Low  52_Week_High    Market_Cap  \\\n",
       " 0        2.332862            7.92       259.77       175.490  1.387211e+11   \n",
       " 1        1.147959            1.70        68.39        48.925  1.078342e+10   \n",
       " 2        1.908982            0.26        64.60        42.280  1.021210e+11   \n",
       " 3        2.499560            3.29       125.86        60.050  1.813863e+11   \n",
       " 4        1.714470            5.44       162.60       114.820  9.876586e+10   \n",
       " \n",
       "          EBITDA  Price/Sales  Price/Book  \n",
       " 0  9.048000e+09     4.390271       11.34  \n",
       " 1  6.010000e+08     3.575483        6.35  \n",
       " 2  5.744000e+09     3.740480        3.19  \n",
       " 3  1.031000e+10     6.291571       26.14  \n",
       " 4  5.643228e+09     2.604117       10.62  ,\n",
       " None)"
      ]
     },
     "execution_count": 24,
     "metadata": {},
     "output_type": "execute_result"
    }
   ],
   "source": [
    "df.head(), df.info()"
   ]
  },
  {
   "cell_type": "markdown",
   "metadata": {},
   "source": [
    "Define Columns"
   ]
  },
  {
   "cell_type": "code",
   "execution_count": 25,
   "metadata": {},
   "outputs": [],
   "source": [
    "categorical_features = ['Sector']\n",
    "numerical_features = ['Price', 'Price/Earnings', 'Dividend_Yield', 'Earnings/Share', '52_Week_Low', \n",
    "                      '52_Week_High', 'Market_Cap', 'EBITDA', 'Price/Sales', 'Price/Book']"
   ]
  },
  {
   "cell_type": "markdown",
   "metadata": {},
   "source": [
    "Create Transformers"
   ]
  },
  {
   "cell_type": "code",
   "execution_count": 26,
   "metadata": {},
   "outputs": [],
   "source": [
    "numeric_transformer = Pipeline(steps=[\n",
    "    ('scaler', StandardScaler())\n",
    "])\n",
    "\n",
    "categorical_transformer = Pipeline(steps=[\n",
    "    ('onehot', OneHotEncoder(handle_unknown='ignore'))\n",
    "])"
   ]
  },
  {
   "cell_type": "markdown",
   "metadata": {},
   "source": [
    "Combine transformers into a preprocessor with ColumnTransformer\n"
   ]
  },
  {
   "cell_type": "code",
   "execution_count": 27,
   "metadata": {},
   "outputs": [],
   "source": [
    "preprocessor = ColumnTransformer(\n",
    "    transformers=[\n",
    "        ('num', numeric_transformer, numerical_features),\n",
    "        ('cat', categorical_transformer, categorical_features)\n",
    "    ])"
   ]
  },
  {
   "cell_type": "markdown",
   "metadata": {},
   "source": [
    "Apply Transformation"
   ]
  },
  {
   "cell_type": "code",
   "execution_count": 28,
   "metadata": {},
   "outputs": [],
   "source": [
    "data_prepared = preprocessor.fit_transform(df)"
   ]
  },
  {
   "cell_type": "markdown",
   "metadata": {},
   "source": [
    "Get the feature names after the one-hot encoding\n"
   ]
  },
  {
   "cell_type": "code",
   "execution_count": 29,
   "metadata": {},
   "outputs": [],
   "source": [
    "feature_names = (numerical_features + \n",
    "                 list(preprocessor.named_transformers_['cat'].named_steps['onehot']\n",
    "                      .get_feature_names_out(categorical_features)))"
   ]
  },
  {
   "cell_type": "markdown",
   "metadata": {},
   "source": [
    "Convert the processed data back to DataFrame for better visualization and further use\n"
   ]
  },
  {
   "cell_type": "code",
   "execution_count": 30,
   "metadata": {},
   "outputs": [],
   "source": [
    "data_preprocessed = pd.DataFrame(data_prepared, columns=feature_names)\n"
   ]
  },
  {
   "cell_type": "markdown",
   "metadata": {},
   "source": [
    "# Creating sequences, X_train, y_train"
   ]
  },
  {
   "cell_type": "code",
   "execution_count": null,
   "metadata": {},
   "outputs": [],
   "source": [
    "def create_sequences(data, sequence_length):\n",
    "    X = []\n",
    "    y = []\n",
    "    for i in range(len(data) - sequence_length):\n",
    "        X.append(data[i:(i + sequence_length)])  \n",
    "        y.append(data[i + sequence_length])      \n",
    "    return np.array(X), np.array(y)"
   ]
  },
  {
   "cell_type": "code",
   "execution_count": null,
   "metadata": {},
   "outputs": [],
   "source": [
    "data = data_preprocessed['Price'].values  \n",
    "sequence_length = 10\n"
   ]
  },
  {
   "cell_type": "code",
   "execution_count": 35,
   "metadata": {},
   "outputs": [],
   "source": [
    "X, y = create_sequences(data, sequence_length)"
   ]
  },
  {
   "cell_type": "code",
   "execution_count": 36,
   "metadata": {},
   "outputs": [],
   "source": [
    "#Split data into training and testing sets\n",
    "split = int(0.8 * len(X))\n",
    "X_train, X_test = X[:split], X[split:]\n",
    "y_train, y_test = y[:split], y[split:]"
   ]
  },
  {
   "cell_type": "markdown",
   "metadata": {},
   "source": [
    "# Result"
   ]
  },
  {
   "cell_type": "code",
   "execution_count": 37,
   "metadata": {},
   "outputs": [
    {
     "data": {
      "text/html": [
       "<div>\n",
       "<style scoped>\n",
       "    .dataframe tbody tr th:only-of-type {\n",
       "        vertical-align: middle;\n",
       "    }\n",
       "\n",
       "    .dataframe tbody tr th {\n",
       "        vertical-align: top;\n",
       "    }\n",
       "\n",
       "    .dataframe thead th {\n",
       "        text-align: right;\n",
       "    }\n",
       "</style>\n",
       "<table border=\"1\" class=\"dataframe\">\n",
       "  <thead>\n",
       "    <tr style=\"text-align: right;\">\n",
       "      <th></th>\n",
       "      <th>Price</th>\n",
       "      <th>Price/Earnings</th>\n",
       "      <th>Dividend_Yield</th>\n",
       "      <th>Earnings/Share</th>\n",
       "      <th>52_Week_Low</th>\n",
       "      <th>52_Week_High</th>\n",
       "      <th>Market_Cap</th>\n",
       "      <th>EBITDA</th>\n",
       "      <th>Price/Sales</th>\n",
       "      <th>Price/Book</th>\n",
       "      <th>...</th>\n",
       "      <th>Sector_Consumer Staples</th>\n",
       "      <th>Sector_Energy</th>\n",
       "      <th>Sector_Financials</th>\n",
       "      <th>Sector_Health Care</th>\n",
       "      <th>Sector_Industrials</th>\n",
       "      <th>Sector_Information Technology</th>\n",
       "      <th>Sector_Materials</th>\n",
       "      <th>Sector_Real Estate</th>\n",
       "      <th>Sector_Telecommunication Services</th>\n",
       "      <th>Sector_Utilities</th>\n",
       "    </tr>\n",
       "  </thead>\n",
       "  <tbody>\n",
       "    <tr>\n",
       "      <th>0</th>\n",
       "      <td>0.878344</td>\n",
       "      <td>-0.008454</td>\n",
       "      <td>0.280215</td>\n",
       "      <td>0.743147</td>\n",
       "      <td>0.875014</td>\n",
       "      <td>0.861718</td>\n",
       "      <td>0.986142</td>\n",
       "      <td>0.796009</td>\n",
       "      <td>0.125507</td>\n",
       "      <td>-0.035195</td>\n",
       "      <td>...</td>\n",
       "      <td>0.0</td>\n",
       "      <td>0.0</td>\n",
       "      <td>0.0</td>\n",
       "      <td>0.0</td>\n",
       "      <td>1.0</td>\n",
       "      <td>0.0</td>\n",
       "      <td>0.0</td>\n",
       "      <td>0.0</td>\n",
       "      <td>0.0</td>\n",
       "      <td>0.0</td>\n",
       "    </tr>\n",
       "    <tr>\n",
       "      <th>1</th>\n",
       "      <td>-0.324371</td>\n",
       "      <td>0.076259</td>\n",
       "      <td>-0.489462</td>\n",
       "      <td>-0.382941</td>\n",
       "      <td>-0.349252</td>\n",
       "      <td>-0.327918</td>\n",
       "      <td>-0.425974</td>\n",
       "      <td>-0.432863</td>\n",
       "      <td>-0.108525</td>\n",
       "      <td>-0.090795</td>\n",
       "      <td>...</td>\n",
       "      <td>0.0</td>\n",
       "      <td>0.0</td>\n",
       "      <td>0.0</td>\n",
       "      <td>0.0</td>\n",
       "      <td>1.0</td>\n",
       "      <td>0.0</td>\n",
       "      <td>0.0</td>\n",
       "      <td>0.0</td>\n",
       "      <td>0.0</td>\n",
       "      <td>0.0</td>\n",
       "    </tr>\n",
       "    <tr>\n",
       "      <th>2</th>\n",
       "      <td>-0.353727</td>\n",
       "      <td>-0.052652</td>\n",
       "      <td>0.004876</td>\n",
       "      <td>-0.643643</td>\n",
       "      <td>-0.373496</td>\n",
       "      <td>-0.390377</td>\n",
       "      <td>0.582168</td>\n",
       "      <td>0.315342</td>\n",
       "      <td>-0.061133</td>\n",
       "      <td>-0.126005</td>\n",
       "      <td>...</td>\n",
       "      <td>0.0</td>\n",
       "      <td>0.0</td>\n",
       "      <td>0.0</td>\n",
       "      <td>1.0</td>\n",
       "      <td>0.0</td>\n",
       "      <td>0.0</td>\n",
       "      <td>0.0</td>\n",
       "      <td>0.0</td>\n",
       "      <td>0.0</td>\n",
       "      <td>0.0</td>\n",
       "    </tr>\n",
       "    <tr>\n",
       "      <th>3</th>\n",
       "      <td>0.032340</td>\n",
       "      <td>-0.128771</td>\n",
       "      <td>0.388497</td>\n",
       "      <td>-0.095082</td>\n",
       "      <td>0.018386</td>\n",
       "      <td>-0.223349</td>\n",
       "      <td>1.457061</td>\n",
       "      <td>0.979604</td>\n",
       "      <td>0.671617</td>\n",
       "      <td>0.129711</td>\n",
       "      <td>...</td>\n",
       "      <td>0.0</td>\n",
       "      <td>0.0</td>\n",
       "      <td>0.0</td>\n",
       "      <td>1.0</td>\n",
       "      <td>0.0</td>\n",
       "      <td>0.0</td>\n",
       "      <td>0.0</td>\n",
       "      <td>0.0</td>\n",
       "      <td>0.0</td>\n",
       "      <td>0.0</td>\n",
       "    </tr>\n",
       "    <tr>\n",
       "      <th>4</th>\n",
       "      <td>0.343130</td>\n",
       "      <td>0.020029</td>\n",
       "      <td>-0.121474</td>\n",
       "      <td>0.294160</td>\n",
       "      <td>0.253414</td>\n",
       "      <td>0.291456</td>\n",
       "      <td>0.545135</td>\n",
       "      <td>0.300682</td>\n",
       "      <td>-0.387530</td>\n",
       "      <td>-0.043217</td>\n",
       "      <td>...</td>\n",
       "      <td>0.0</td>\n",
       "      <td>0.0</td>\n",
       "      <td>0.0</td>\n",
       "      <td>0.0</td>\n",
       "      <td>0.0</td>\n",
       "      <td>1.0</td>\n",
       "      <td>0.0</td>\n",
       "      <td>0.0</td>\n",
       "      <td>0.0</td>\n",
       "      <td>0.0</td>\n",
       "    </tr>\n",
       "  </tbody>\n",
       "</table>\n",
       "<p>5 rows × 21 columns</p>\n",
       "</div>"
      ],
      "text/plain": [
       "      Price  Price/Earnings  Dividend_Yield  Earnings/Share  52_Week_Low  \\\n",
       "0  0.878344       -0.008454        0.280215        0.743147     0.875014   \n",
       "1 -0.324371        0.076259       -0.489462       -0.382941    -0.349252   \n",
       "2 -0.353727       -0.052652        0.004876       -0.643643    -0.373496   \n",
       "3  0.032340       -0.128771        0.388497       -0.095082     0.018386   \n",
       "4  0.343130        0.020029       -0.121474        0.294160     0.253414   \n",
       "\n",
       "   52_Week_High  Market_Cap    EBITDA  Price/Sales  Price/Book  ...  \\\n",
       "0      0.861718    0.986142  0.796009     0.125507   -0.035195  ...   \n",
       "1     -0.327918   -0.425974 -0.432863    -0.108525   -0.090795  ...   \n",
       "2     -0.390377    0.582168  0.315342    -0.061133   -0.126005  ...   \n",
       "3     -0.223349    1.457061  0.979604     0.671617    0.129711  ...   \n",
       "4      0.291456    0.545135  0.300682    -0.387530   -0.043217  ...   \n",
       "\n",
       "   Sector_Consumer Staples  Sector_Energy  Sector_Financials  \\\n",
       "0                      0.0            0.0                0.0   \n",
       "1                      0.0            0.0                0.0   \n",
       "2                      0.0            0.0                0.0   \n",
       "3                      0.0            0.0                0.0   \n",
       "4                      0.0            0.0                0.0   \n",
       "\n",
       "   Sector_Health Care  Sector_Industrials  Sector_Information Technology  \\\n",
       "0                 0.0                 1.0                            0.0   \n",
       "1                 0.0                 1.0                            0.0   \n",
       "2                 1.0                 0.0                            0.0   \n",
       "3                 1.0                 0.0                            0.0   \n",
       "4                 0.0                 0.0                            1.0   \n",
       "\n",
       "   Sector_Materials  Sector_Real Estate  Sector_Telecommunication Services  \\\n",
       "0               0.0                 0.0                                0.0   \n",
       "1               0.0                 0.0                                0.0   \n",
       "2               0.0                 0.0                                0.0   \n",
       "3               0.0                 0.0                                0.0   \n",
       "4               0.0                 0.0                                0.0   \n",
       "\n",
       "   Sector_Utilities  \n",
       "0               0.0  \n",
       "1               0.0  \n",
       "2               0.0  \n",
       "3               0.0  \n",
       "4               0.0  \n",
       "\n",
       "[5 rows x 21 columns]"
      ]
     },
     "execution_count": 37,
     "metadata": {},
     "output_type": "execute_result"
    }
   ],
   "source": [
    "data_preprocessed.head()"
   ]
  },
  {
   "cell_type": "code",
   "execution_count": 38,
   "metadata": {},
   "outputs": [],
   "source": [
    "data_preprocessed.to_csv('data_preprocessed.csv', index=False)"
   ]
  }
 ],
 "metadata": {
  "kernelspec": {
   "display_name": "base",
   "language": "python",
   "name": "python3"
  },
  "language_info": {
   "codemirror_mode": {
    "name": "ipython",
    "version": 3
   },
   "file_extension": ".py",
   "mimetype": "text/x-python",
   "name": "python",
   "nbconvert_exporter": "python",
   "pygments_lexer": "ipython3",
   "version": "3.11.5"
  }
 },
 "nbformat": 4,
 "nbformat_minor": 2
}
